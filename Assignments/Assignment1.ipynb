{
 "cells": [
  {
   "cell_type": "markdown",
   "metadata": {},
   "source": [
    "# Assignment 1:  Unlocking Statistical Insights with Python\n",
    "---\n",
    "\n",
    "Welcome to Assignment 1! In this assignment, you'll dive into the world of statistical analysis using Python.  We'll move beyond theoretical concepts and focus on practical application. You'll learn how to calculate key statistical measures and use them for real-world tasks like outlier detection.\n",
    "\n",
    "This assignment will guide you through:\n",
    "\n",
    "* **Revise the concepts and equations:**  You'll implement code from scratch to compute essential statistics like mean, median, mode, variance, standard deviation, range, and interquartile range (IQR).\n",
    "* **Calculating Basic Statistics:**  You'll implement functions (and use powerful libraries like NumPy and SciPy) to compute essential statistics like mean, median, mode, variance, standard deviation, range, and interquartile range (IQR).\n",
    "* **Outlier Detection:** You'll apply the Interquartile Range (IQR) method to identify and filter outliers from datasets, a crucial step in data cleaning and analysis.\n",
    "\n",
    "By the end of this assignment, you'll have a strong foundation in performing statistical calculations in Python and applying these techniques to understand and refine data.\n",
    "\n",
    "#### General Instructions \n",
    "\n",
    "Please adhere to the following guidelines:\n",
    "\n",
    "- **Code Clarity:** Your code should be well-formatted, easy to understand, and include meaningful variable names.\n",
    "- **Docstrings:**  Use docstrings to document your functions and explain their purpose, arguments, and return values.\n",
    "- **Testing:**  Use the same given data example of your code to demonstrate its functionality.\n",
    "- **NOTE:** Answer in the same notebook with the given examples.\n"
   ]
  },
  {
   "cell_type": "markdown",
   "metadata": {},
   "source": [
    "---\n",
    "\n",
    "## 2.  Q1- Basic Statistics Calculator\n",
    "\n",
    "**Objective:** Create a Python program that calculates basic statistics (mean, median, mode, range, variance, and standard deviation) for a set of numbers entered by the user.\n",
    "\n",
    "**Requirements:**\n",
    "Follow the TODOs below to complete each statistical calculation.\n"
   ]
  },
  {
   "cell_type": "code",
   "execution_count": 1,
   "metadata": {},
   "outputs": [],
   "source": [
    "# Initialize an empty list to store numbers\n",
    "temperatures = [23, 25, 20, 23, -5, 21, 18, 19, 24, 21,19, 24, 0, \n",
    "                20, 24, 55, 22, 50, 22, 20, 21, 22, 20, 25, 19, \n",
    "                22, 26, 23, 21, 23, 17, 20, 18]"
   ]
  },
  {
   "cell_type": "code",
   "execution_count": 9,
   "metadata": {},
   "outputs": [
    {
     "name": "stdout",
     "output_type": "stream",
     "text": [
      "20.0 23.0 21.0\n"
     ]
    }
   ],
   "source": [
    "Q1 = np.percentile(temperatures, 25)\n",
    "Q3 = np.percentile(temperatures, 75)\n",
    "print(Q1, Q3, np.median(temperatures))"
   ]
  },
  {
   "cell_type": "code",
   "execution_count": 4,
   "metadata": {},
   "outputs": [],
   "source": [
    "def b_sort(values):\n",
    "    length = len(values)\n",
    "    for i in range(length - 1):\n",
    "        for j in range(i, length):\n",
    "            if values[j] < values[i]:\n",
    "                values[i], values[j] = values[j], values[i]\n",
    "    return values"
   ]
  },
  {
   "cell_type": "code",
   "execution_count": 39,
   "metadata": {},
   "outputs": [],
   "source": [
    "# --- Mean Calculation ---\n",
    "# TODO: Calculate the mean of the numbers in the 'temperatures' list.\n",
    "#       Handle the case where the list is empty (return None or print a message).\n",
    "#       Print the mean using an f-string.\n",
    "# Your code here:\n",
    "def mean(values):\n",
    "    if values:\n",
    "        m = round(sum(values) / len(values), 3)\n",
    "        return m\n",
    "    else:\n",
    "        return None"
   ]
  },
  {
   "cell_type": "code",
   "execution_count": 4,
   "metadata": {},
   "outputs": [
    {
     "name": "stdout",
     "output_type": "stream",
     "text": [
      "Mean = 21.879\n"
     ]
    }
   ],
   "source": [
    "print(f\"Mean = {mean(temperatures)}\")"
   ]
  },
  {
   "cell_type": "code",
   "execution_count": 23,
   "metadata": {},
   "outputs": [],
   "source": [
    "# --- Median Calculation ---\n",
    "# TODO: Calculate the median of the numbers in the 'temperatures' list.\n",
    "#       Sort the 'numbers' list first.\n",
    "#       Handle both even and odd length lists.\n",
    "#       Print the median using an f-string.\n",
    "# Your code here:\n",
    "def median(values):\n",
    "    if values:\n",
    "        n = len(values)\n",
    "        sorted_values = b_sort(values)\n",
    "        mid_index = int(n / 2)\n",
    "\n",
    "        if n % 2 != 0:\n",
    "            return sorted_values[mid_index]\n",
    "        else:\n",
    "            \n",
    "            return (sorted_values[mid_index] + sorted_values[mid_index - 1]) / 2\n",
    "    else:\n",
    "        return None"
   ]
  },
  {
   "cell_type": "code",
   "execution_count": 24,
   "metadata": {},
   "outputs": [
    {
     "name": "stdout",
     "output_type": "stream",
     "text": [
      "Medain = 21\n"
     ]
    }
   ],
   "source": [
    "print(f\"Medain = {median(temperatures)}\")"
   ]
  },
  {
   "cell_type": "code",
   "execution_count": 13,
   "metadata": {},
   "outputs": [],
   "source": [
    "# --- Mode Calculation (Simple) ---\n",
    "# TODO: Calculate the mode (most frequent number) in the 'temperatures' list.\n",
    "#       If there are multiple modes, you can return any one of them.\n",
    "#       If there is no mode (all numbers appear once), you can return None or print a message.\n",
    "#       Print the mode using an f-string.\n",
    "# Your code here:\n",
    "def mode(values):\n",
    "    if values:\n",
    "        freq = {}\n",
    "        for v in values:\n",
    "            if v in freq:\n",
    "                freq[v] += 1\n",
    "            else:\n",
    "                freq[v] = 1\n",
    "\n",
    "        max_freq = max(freq.values())\n",
    "        modes = [m for m in set(values) if freq[m] == max_freq]\n",
    "\n",
    "        if len(modes) == len(values):\n",
    "            return None\n",
    "        else:\n",
    "            return modes[0]\n",
    "    else:\n",
    "        return None\n",
    "    "
   ]
  },
  {
   "cell_type": "code",
   "execution_count": 14,
   "metadata": {},
   "outputs": [
    {
     "name": "stdout",
     "output_type": "stream",
     "text": [
      "Mode = 20\n"
     ]
    }
   ],
   "source": [
    "print(f\"Mode = {mode(temperatures)}\")"
   ]
  },
  {
   "cell_type": "code",
   "execution_count": 43,
   "metadata": {},
   "outputs": [],
   "source": [
    "# --- Variance Calculation ---\n",
    "# TODO: Calculate the variance of the numbers in the 'temperatures' list.\n",
    "#       Use the formula for sample variance (divide by n-1 for sample, n for population).\n",
    "#       For this exercise, assume it's sample variance if list has more than 1 element, else return 0 if list has 0 or 1 element.\n",
    "#       Print the variance using an f-string.\n",
    "# Your code here:\n",
    "def var(values):\n",
    "    n = len(values) \n",
    "    if n > 1:\n",
    "        m = mean(values)\n",
    "        v = round(sum([(x - m) ** 2 for x in values]) / (n - 1), 3)\n",
    "        return v\n",
    "    else:\n",
    "        return 0"
   ]
  },
  {
   "cell_type": "code",
   "execution_count": 16,
   "metadata": {},
   "outputs": [
    {
     "name": "stdout",
     "output_type": "stream",
     "text": [
      "Variance = 101.36\n"
     ]
    }
   ],
   "source": [
    "print(f\"Variance = {var(temperatures)}\")"
   ]
  },
  {
   "cell_type": "code",
   "execution_count": 40,
   "metadata": {},
   "outputs": [],
   "source": [
    "# --- Standard Deviation Calculation ---\n",
    "# TODO: Calculate the standard deviation of the numbers in the 'temperatures' list.\n",
    "#       Take the square root of the variance calculated above.\n",
    "#       Print the standard deviation using an f-string.\n",
    "# Your code here:\n",
    "from math import sqrt\n",
    "def std(values):\n",
    "    v = var(values)\n",
    "    \n",
    "    return round(sqrt(v), 3)\n"
   ]
  },
  {
   "cell_type": "code",
   "execution_count": 18,
   "metadata": {},
   "outputs": [
    {
     "name": "stdout",
     "output_type": "stream",
     "text": [
      "Standard Deviation = 10.068\n"
     ]
    }
   ],
   "source": [
    "print(f\"Standard Deviation = {std(temperatures)}\")"
   ]
  },
  {
   "cell_type": "code",
   "execution_count": 2,
   "metadata": {},
   "outputs": [],
   "source": [
    "# --- Range Calculation ---\n",
    "# TODO: Calculate the range (difference between max and min) of the 'temperatures' list.\n",
    "#       Print the range using an f-string.\n",
    "# Your code here:\n",
    "def Range(values):\n",
    "    return max(values) - min(values)"
   ]
  },
  {
   "cell_type": "code",
   "execution_count": 3,
   "metadata": {},
   "outputs": [
    {
     "name": "stdout",
     "output_type": "stream",
     "text": [
      "Range = 60\n"
     ]
    }
   ],
   "source": [
    "print(f\"Range = {Range(temperatures)}\")"
   ]
  },
  {
   "cell_type": "code",
   "execution_count": 33,
   "metadata": {},
   "outputs": [],
   "source": [
    "# --- IQR Calculation ---\n",
    "# TODO: Calculate the Interquartile Range (IQR) of the 'temperatures' list.\n",
    "#       Use the percentile function you defined in Q1 or define a new one if needed.\n",
    "#       Calculate Q1 (25th percentile) and Q3 (75th percentile).\n",
    "#       IQR = Q3 - Q1\n",
    "#       Print the IQR using an f-string.\n",
    "# Your code here:\n",
    "def iqr(values):\n",
    "    sorted_values = b_sort(values)\n",
    "    n = len(values)\n",
    "    if n % 2 == 0:\n",
    "        lower_half = sorted_values[:n // 2]\n",
    "        upper_half = sorted_values[n // 2:]\n",
    "    else:\n",
    "        lower_half = sorted_values[:n // 2]\n",
    "        upper_half = sorted_values[n // 2+1:]\n",
    "    Q1 = int(median(lower_half))\n",
    "    Q3 = int(median(upper_half))\n",
    "    return Q3 - Q1\n"
   ]
  },
  {
   "cell_type": "code",
   "execution_count": 35,
   "metadata": {},
   "outputs": [
    {
     "name": "stdout",
     "output_type": "stream",
     "text": [
      "IQR = 4\n"
     ]
    }
   ],
   "source": [
    "print(f\"IQR = {iqr(temperatures)}\")"
   ]
  },
  {
   "cell_type": "code",
   "execution_count": null,
   "metadata": {},
   "outputs": [],
   "source": [
    "# --- Skewness Calculation ---\n",
    "# TODO: (Optional) Calculate the skewness of the 'temperatures' list.\n",
    "#       You can use a simple method for skewness calculation.\n",
    "#       Print the skewness using an f-string.\n",
    "# Your code here:\n",
    "def skewness(values):\n",
    "    if values:\n",
    "        n = len(values)\n",
    "        m = mean(values)\n",
    "        sd = std(values)\n",
    "        s = round(sum([(x - m) ** 3 for x in values]) / ((n - 1) * sd ** 3), 3)\n",
    "        return s\n",
    "    else:\n",
    "        return None"
   ]
  },
  {
   "cell_type": "code",
   "execution_count": 47,
   "metadata": {},
   "outputs": [
    {
     "name": "stdout",
     "output_type": "stream",
     "text": [
      "Skewness = 0.873\n"
     ]
    }
   ],
   "source": [
    "print(f\"Skewness = {skewness(temperatures)}\")"
   ]
  },
  {
   "cell_type": "code",
   "execution_count": 50,
   "metadata": {},
   "outputs": [],
   "source": [
    "# --- Kurtosis Calculation ---\n",
    "# TODO: Calculate the skewness of the 'temperatures' list.\n",
    "#       You can use a simple method for skewness calculation.\n",
    "#       Print the skewness using an f-string.\n",
    "# Your code here:\n",
    "def kurtosis(values):\n",
    "    if values:\n",
    "        n = len(values)\n",
    "        m = mean(values)\n",
    "        sd = std(values)\n",
    "        s = round(sum([(x - m) ** 4 for x in values]) / ((n - 1) * sd ** 4), 3)\n",
    "        return s\n",
    "    else:\n",
    "        return None"
   ]
  },
  {
   "cell_type": "code",
   "execution_count": 51,
   "metadata": {},
   "outputs": [
    {
     "name": "stdout",
     "output_type": "stream",
     "text": [
      "Kurtosis = 7.852\n"
     ]
    }
   ],
   "source": [
    "print(f\"Kurtosis = {kurtosis(temperatures)}\")"
   ]
  },
  {
   "cell_type": "markdown",
   "metadata": {},
   "source": [
    "---\n",
    "## Q2 - Repeat Q1 with Numpy \n",
    "**Objective:** Use numpy to calculate basic statistics (mean, median, mode, range, variance, and standard deviation) for a set of given numbers."
   ]
  },
  {
   "cell_type": "markdown",
   "metadata": {},
   "source": [
    "---\n",
    "## Q2. Filtering Outliers\n",
    "\n",
    "\n",
    "The basic approach is to identify potential outliers based on a defined threshold. A common method is to use the **Interquartile Range (IQR)**. Here's how it works:\n",
    "\n",
    "1. Use python liberaries (don't hard-code the equations) to calculate basic statistics (mean, median, mode, range, variance, standard deviation, and IQR) for a set of given numbers.\n",
    "\n",
    "2. **Define Outlier Boundaries:**\n",
    "   - Lower Boundary: Q1 - 1.5 * IQR\n",
    "   - Upper Boundary: Q3 + 1.5 * IQR\n",
    "\n",
    "3. **Filter the List:**\n",
    "   - Remove any values that fall outside the calculated boundaries."
   ]
  },
  {
   "cell_type": "code",
   "execution_count": 7,
   "metadata": {},
   "outputs": [],
   "source": [
    "import numpy as np\n",
    "from scipy import stats # Import scipy.stats for mode and skewness if needed\n",
    "\n",
    "# Given set of numbers\n",
    "temperatures = np.array([25, 32, 45, 18, 60, 55, 48, 72, 23, 25, 20, 23, -5, 21, 18, 19, 24, 21,19, 24, 0,\n",
    "                20, 24, 55, 22, 50, 22, 20, 21, 22, 20, 25, 19,\n",
    "                22, 26, 23, 21, 23, 17, 20, 18])"
   ]
  },
  {
   "cell_type": "code",
   "execution_count": null,
   "metadata": {},
   "outputs": [],
   "source": []
  },
  {
   "cell_type": "code",
   "execution_count": null,
   "metadata": {},
   "outputs": [],
   "source": [
    "# --- Mean Calculation with NumPy ---\n",
    "# TODO: Calculate the mean of the temperatures array using numpy.\n",
    "# Your code here:\n",
    "\n",
    "\n",
    "# --- Median Calculation with NumPy ---\n",
    "# TODO: Calculate the median of the temperatures array using numpy.\n",
    "# Your code here:\n",
    "\n",
    "\n",
    "# --- Mode Calculation with NumPy/SciPy ---\n",
    "# TODO: Calculate the mode (most frequent number) using numpy or scipy.stats.\n",
    "#       NumPy doesn't have a direct mode function. \n",
    "# Your code here:\n",
    "\n",
    "\n",
    "# --- Variance Calculation with NumPy ---\n",
    "# TODO: Calculate the variance of the temperatures array using numpy.\n",
    "# Your code here:\n",
    "\n",
    "\n",
    "# --- Standard Deviation Calculation with NumPy ---\n",
    "# TODO: Calculate the standard deviation of the temperatures array using numpy.\n",
    "# Your code here:\n",
    "\n",
    "\n",
    "# --- Range Calculation with NumPy ---\n",
    "# TODO: Calculate the range (difference between max and min) using numpy.\n",
    "# Your code here:\n",
    "\n",
    "\n",
    "# --- IQR Calculation with NumPy ---\n",
    "# TODO: Calculate the Interquartile Range (IQR) using numpy.percentile().\n",
    "#       Calculate Q1 (25th percentile) and Q3 (75th percentile).\n",
    "#       IQR = Q3 - Q1\n",
    "# Your code here:\n",
    "\n",
    "\n",
    "# --- Skewness Calculation with SciPy ---\n",
    "# TODO: Calculate the skewness using scipy.stats.skew().\n",
    "# Your code here:\n",
    "\n",
    "# --- Kurtosis Calculation with SciPy ---\n",
    "# TODO: Calculate the skewness using scipy.stats.skew().\n",
    "# Your code here:"
   ]
  },
  {
   "cell_type": "code",
   "execution_count": null,
   "metadata": {},
   "outputs": [],
   "source": [
    "# Simulated data for temperatures\n",
    "temperatures = [23, 25, 20, 23, -5, 21, 18, 19, 24, 21,19, 24, 0, \n",
    "                20, 24, 55, 22, 50, 22, 20, 21, 22, 20, 25, 19, \n",
    "                22, 26, 23, 21, 23, 17, 20, 18]\n",
    "\n",
    "# TODO: Calculate Q1 by calling the function with percentile=25 (use your previoly defined function)\n",
    "q1 = None\n",
    "print(\"Q1:\", q1)\n",
    "\n",
    "# TODO: Calculate Q2 by calling the function with percentile=50\n",
    "q2 = None \n",
    "print(\"Q2:\", q2)\n",
    "\n",
    "# TODO: Calculate Q3 by calling the function with percentile=75\n",
    "q3 = None \n",
    "print(\"Q3:\", q3)\n",
    "\n",
    "# TODO: Calculate IQR by subtracting Q1 from Q3\n",
    "iqr = None\n",
    "print(\"IQR:\", iqr)"
   ]
  },
  {
   "cell_type": "markdown",
   "metadata": {},
   "source": [
    "**Define the lower and upper bounds for outliers**"
   ]
  },
  {
   "cell_type": "code",
   "execution_count": null,
   "metadata": {},
   "outputs": [],
   "source": [
    "# TODO: Calculate lower bound using formula: Q1 - 1.5 * IQR\n",
    "lower_bound = None\n",
    "print(\"Lower Bound:\", lower_bound)\n",
    "\n",
    "# TODO: Calculate upper bound using formula: Q3 + 1.5 * IQR\n",
    "upper_bound = None\n",
    "print(\"Upper Bound:\", upper_bound)\n"
   ]
  },
  {
   "cell_type": "markdown",
   "metadata": {},
   "source": [
    "**Filter the outliers**"
   ]
  },
  {
   "cell_type": "code",
   "execution_count": null,
   "metadata": {},
   "outputs": [],
   "source": [
    "# TODO: Create a list comprehension that only includes values between the bounds\n",
    "filtered_temperatures = None"
   ]
  },
  {
   "cell_type": "markdown",
   "metadata": {},
   "source": [
    "**Output the results**"
   ]
  },
  {
   "cell_type": "code",
   "execution_count": null,
   "metadata": {},
   "outputs": [],
   "source": [
    "print(\"Original Temperatures:\", temperatures)\n",
    "print(\"Filtered Temperatures:\", filtered_temperatures)"
   ]
  },
  {
   "cell_type": "markdown",
   "metadata": {},
   "source": [
    "---\n",
    "## Q3: Outlier Removal Function\n",
    "\n",
    "Take the outlier filtering steps from the previous explanation (Q2) and encapsulate them into a reusable function. This function should be designed to be easily applied to different festures for consistent outlier removal and analysis."
   ]
  },
  {
   "cell_type": "code",
   "execution_count": 25,
   "metadata": {},
   "outputs": [],
   "source": [
    "# Simulated data \n",
    "temperatures = [23, 25, 23, -5, 18, 19, 24, 21, 19, 24, 0, \n",
    "                24, 55, 50, 20, 25, 22, 26, 23, 17, 18]\n",
    "\n",
    "humidity = [60, 65, 72, 68, 75, 80, 82, 78, 62, 68, 71, \n",
    "            69, 77, 81, 79, 64, 69, 67,  74, 68, 75, 100] "
   ]
  },
  {
   "cell_type": "code",
   "execution_count": 13,
   "metadata": {},
   "outputs": [],
   "source": [
    "# TODO: Define a function to retraive only data without outliers. Use the previous percentiles function\n"
   ]
  },
  {
   "cell_type": "code",
   "execution_count": null,
   "metadata": {},
   "outputs": [],
   "source": [
    "# TODO: Apply the defined function to retraive only data without outliers. \n",
    "\n",
    "filtered_temperatures = None\n",
    "filtered_humidity = None"
   ]
  },
  {
   "cell_type": "markdown",
   "metadata": {},
   "source": [
    "**Output the results**"
   ]
  },
  {
   "cell_type": "code",
   "execution_count": null,
   "metadata": {},
   "outputs": [],
   "source": [
    "print(\"Original Temperatures:\", sorted(temperatures))\n",
    "print(\"Filtered Temperatures:\", filtered_temperatures)\n",
    "print('='*110)\n",
    "print(\"Original Humidity:\", sorted(humidity))\n",
    "print(\"Filtered Humidity:\", filtered_humidity)"
   ]
  }
 ],
 "metadata": {
  "kernelspec": {
   "display_name": "Python 3",
   "language": "python",
   "name": "python3"
  },
  "language_info": {
   "codemirror_mode": {
    "name": "ipython",
    "version": 3
   },
   "file_extension": ".py",
   "mimetype": "text/x-python",
   "name": "python",
   "nbconvert_exporter": "python",
   "pygments_lexer": "ipython3",
   "version": "3.13.0"
  }
 },
 "nbformat": 4,
 "nbformat_minor": 2
}
